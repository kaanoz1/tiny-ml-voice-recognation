{
 "cells": [
  {
   "cell_type": "code",
   "id": "initial_id",
   "metadata": {
    "collapsed": true,
    "ExecuteTime": {
     "end_time": "2025-02-25T17:27:27.394372Z",
     "start_time": "2025-02-25T17:27:27.387583Z"
    }
   },
   "source": [
    "import numpy as np\n",
    "import tensorflow as tf\n",
    "import sounddevice as sd\n",
    "from scipy import signal\n",
    "\n",
    "from numpy import ndarray, int16, float32\n",
    "from typing import List"
   ],
   "outputs": [],
   "execution_count": 36
  },
  {
   "metadata": {
    "ExecuteTime": {
     "end_time": "2025-02-25T17:49:04.324329Z",
     "start_time": "2025-02-25T17:49:04.317643Z"
    }
   },
   "cell_type": "code",
   "source": [
    "duration: int = 1;  # In seconds. Duration of the recording.\n",
    "fs: int = 22050;  # Frequency of recording, 22050 samples per seconds. Continues -> Discrete.\n",
    "frames: int = duration * fs;  # Frame count.\n",
    "\n",
    "categories: List[str] = [\"red\", \"blue\", \"off\"]"
   ],
   "id": "c91f005da0766e74",
   "outputs": [],
   "execution_count": 53
  },
  {
   "metadata": {
    "ExecuteTime": {
     "end_time": "2025-02-25T18:14:50.478256Z",
     "start_time": "2025-02-25T18:14:50.470079Z"
    }
   },
   "cell_type": "code",
   "source": [
    "def get_waveform_file(file_name: str) -> ndarray:\n",
    "    file_path: str = f\"./data/{file_name}\"\n",
    "    file_tensor = tf.io.read_file(file_path)\n",
    "    audio_tensor, _ = tf.audio.decode_wav(file_tensor)\n",
    "    audio_tensor = tf.squeeze(audio_tensor, axis=-1)\n",
    "    return audio_tensor"
   ],
   "id": "1b790d75b18ade2",
   "outputs": [],
   "execution_count": 75
  },
  {
   "metadata": {
    "ExecuteTime": {
     "end_time": "2025-02-25T19:24:06.690559Z",
     "start_time": "2025-02-25T19:24:05.245061Z"
    }
   },
   "cell_type": "code",
   "source": [
    "print(\"Speak Now\")\n",
    "recording: ndarray = sd.rec(frames=frames, samplerate=fs, channels=1)\n",
    "sd.wait(ignore_errors=False)\n",
    "\n",
    "audio = np.squeeze(recording).astype(np.float32)\n",
    "## audio = get_waveform_file(\"off_5.wav\") Get input from dataset.\n",
    "spectrogram = tf.signal.stft(audio, frame_length=255, frame_step=124, fft_length=256)\n",
    "\n",
    "spectrogram = tf.abs(spectrogram)\n",
    "spectrogram = tf.reshape(spectrogram, (1, 1, 129, 176))\n",
    "\n",
    "tf_model = tf.lite.Interpreter(model_path=\"models/model_0.tflite\")\n",
    "input_details = tf_model.get_input_details()\n",
    "output_details = tf_model.get_output_details()\n",
    "\n",
    "print(\"Spectrogram Shape: \", spectrogram.shape)\n",
    "print(\"Input Shape: \", input_details[0][\"shape\"])\n",
    "\n",
    "## Model Predicting:\n",
    "\n",
    "tf_model.allocate_tensors()\n",
    "tf_model.set_tensor(input_details[0][\"index\"], spectrogram)\n",
    "tf_model.invoke()\n",
    "\n",
    "tf_model_prediction_coefficients = tf_model.get_tensor(output_details[0][\"index\"])\n",
    "\n",
    "tf_model_prediction = categories[tf.argmax(tf_model_prediction_coefficients, axis=1).numpy()[0]]\n",
    "\n",
    "\n",
    "print(\"Categories: \", categories)\n",
    "print(\"Coefficients: \", tf_model_prediction_coefficients)\n",
    "print(\"Model Prediction: \", tf_model_prediction)\n",
    "\n",
    "print(\"Finished!\")\n"
   ],
   "id": "cad2293ef1c3ebfe",
   "outputs": [
    {
     "name": "stdout",
     "output_type": "stream",
     "text": [
      "Speak Now\n",
      "Spectrogram Shape:  (1, 1, 129, 176)\n",
      "Input Shape:  [  1   1 129 176]\n",
      "Categories:  ['red', 'blue', 'off']\n",
      "Coefficients:  [[-2.3461437 -6.44826   10.181015 ]]\n",
      "Model Prediction:  off\n",
      "Finished!\n"
     ]
    }
   ],
   "execution_count": 125
  }
 ],
 "metadata": {
  "kernelspec": {
   "display_name": "Python 3",
   "language": "python",
   "name": "python3"
  },
  "language_info": {
   "codemirror_mode": {
    "name": "ipython",
    "version": 2
   },
   "file_extension": ".py",
   "mimetype": "text/x-python",
   "name": "python",
   "nbconvert_exporter": "python",
   "pygments_lexer": "ipython2",
   "version": "2.7.6"
  }
 },
 "nbformat": 4,
 "nbformat_minor": 5
}
