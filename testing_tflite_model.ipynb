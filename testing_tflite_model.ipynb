{
 "cells": [
  {
   "metadata": {},
   "cell_type": "markdown",
   "source": "### Importing Modules:",
   "id": "568b3d95fc60d5a7"
  },
  {
   "metadata": {
    "collapsed": true,
    "ExecuteTime": {
     "end_time": "2025-02-26T19:53:33.450809Z",
     "start_time": "2025-02-26T19:53:33.443398Z"
    }
   },
   "cell_type": "code",
   "outputs": [],
   "execution_count": 6,
   "source": [
    "import numpy as np\n",
    "import tensorflow as tf\n",
    "import sounddevice as sd\n",
    "from scipy.special import softmax\n",
    "\n",
    "from numpy import ndarray\n",
    "from typing import List"
   ],
   "id": "initial_id"
  },
  {
   "metadata": {},
   "cell_type": "markdown",
   "source": "### Variable Initialization:",
   "id": "e143499ef6e4ed96"
  },
  {
   "metadata": {
    "ExecuteTime": {
     "end_time": "2025-02-26T19:53:33.474677Z",
     "start_time": "2025-02-26T19:53:33.469883Z"
    }
   },
   "cell_type": "code",
   "source": [
    "duration: int = 1;  # In seconds. Duration of the recording.\n",
    "fs: int = 22050;  # Frequency of recording, 22050 samples per seconds. Continues -> Discrete.\n",
    "frames: int = duration * fs;  # Frame count.\n",
    "\n",
    "categories: List[str] = [\"red\", \"blue\", \"off\"]"
   ],
   "id": "c91f005da0766e74",
   "outputs": [],
   "execution_count": 7
  },
  {
   "metadata": {},
   "cell_type": "markdown",
   "source": "### Helper function for case of which passing input from training files.",
   "id": "4f50151f337fe149"
  },
  {
   "metadata": {
    "ExecuteTime": {
     "end_time": "2025-02-26T19:53:33.484321Z",
     "start_time": "2025-02-26T19:53:33.474677Z"
    }
   },
   "cell_type": "code",
   "source": [
    "def get_waveform_file(file_name: str) -> ndarray:\n",
    "    file_path: str = f\"./data/{file_name}\"\n",
    "    file_tensor = tf.io.read_file(file_path)\n",
    "    audio_tensor, _ = tf.audio.decode_wav(file_tensor)\n",
    "    audio_tensor = tf.squeeze(audio_tensor, axis=-1)\n",
    "    return audio_tensor"
   ],
   "id": "1b790d75b18ade2",
   "outputs": [],
   "execution_count": 8
  },
  {
   "metadata": {
    "ExecuteTime": {
     "end_time": "2025-02-26T19:54:24.127926Z",
     "start_time": "2025-02-26T19:54:22.820459Z"
    }
   },
   "cell_type": "code",
   "source": [
    "print(\"Speak Now\")\n",
    "recording: ndarray = sd.rec(frames=frames, samplerate=fs, channels=1)\n",
    "sd.wait(ignore_errors=False)\n",
    "\n",
    "audio = np.squeeze(recording).astype(np.float32)\n",
    "## audio = get_waveform_file(\"off_0.wav\") Get the value from train/test/val data.\n",
    "spectrogram = tf.signal.stft(audio, frame_length=255, frame_step=124, fft_length=256)\n",
    "\n",
    "spectrogram = tf.abs(spectrogram)\n",
    "spectrogram = tf.reshape(spectrogram, (1, 1, 129, 176))\n",
    "\n",
    "tf_model = tf.lite.Interpreter(model_path=\"models/model_0.tflite\")\n",
    "input_details = tf_model.get_input_details()\n",
    "output_details = tf_model.get_output_details()\n",
    "\n",
    "print(\"Spectrogram Shape: \", spectrogram.shape)\n",
    "print(\"Input Shape: \", input_details[0][\"shape\"])\n",
    "\n",
    "\n",
    "\n",
    "\n"
   ],
   "id": "cad2293ef1c3ebfe",
   "outputs": [
    {
     "name": "stdout",
     "output_type": "stream",
     "text": [
      "Speak Now\n",
      "Spectrogram Shape:  (1, 1, 129, 176)\n",
      "Input Shape:  [  1   1 129 176]\n",
      "Categories:  ['red', 'blue', 'off']\n",
      "Coefficients:  [[-11.345081 -19.747616  22.00971 ]]\n",
      "Probabilities:  [[3.2673741e-15 7.3286589e-19 1.0000000e+00]]\n",
      "Model Prediction:  off\n",
      "Finished!\n"
     ]
    }
   ],
   "execution_count": 12
  },
  {
   "metadata": {},
   "cell_type": "markdown",
   "source": "### Model Predicting:",
   "id": "9ba318a59881e288"
  },
  {
   "metadata": {},
   "cell_type": "code",
   "outputs": [],
   "execution_count": null,
   "source": [
    "tf_model.allocate_tensors()\n",
    "tf_model.set_tensor(input_details[0][\"index\"], spectrogram)\n",
    "tf_model.invoke()\n",
    "\n",
    "tf_model_prediction_coefficients = tf_model.get_tensor(output_details[0][\"index\"])\n",
    "\n",
    "tf_model_prediction = categories[tf.argmax(tf_model_prediction_coefficients, axis=1).numpy()[0]]\n",
    "\n",
    "probabilities = softmax(tf_model_prediction_coefficients)\n",
    "\n",
    "print(\"Categories: \", categories)\n",
    "print(\"Coefficients: \", tf_model_prediction_coefficients)\n",
    "print(\"Probabilities: \", probabilities)\n",
    "print(\"Model Prediction: \", tf_model_prediction)\n",
    "\n",
    "print(\"Finished!\")"
   ],
   "id": "13c1d757f00aff0a"
  }
 ],
 "metadata": {
  "kernelspec": {
   "display_name": "Python 3",
   "language": "python",
   "name": "python3"
  },
  "language_info": {
   "codemirror_mode": {
    "name": "ipython",
    "version": 2
   },
   "file_extension": ".py",
   "mimetype": "text/x-python",
   "name": "python",
   "nbconvert_exporter": "python",
   "pygments_lexer": "ipython2",
   "version": "2.7.6"
  }
 },
 "nbformat": 4,
 "nbformat_minor": 5
}
