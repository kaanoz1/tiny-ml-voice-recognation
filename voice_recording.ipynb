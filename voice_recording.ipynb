{
 "cells": [
  {
   "metadata": {},
   "cell_type": "markdown",
   "source": "**Importing modules:**",
   "id": "8a77807f92f26ee"
  },
  {
   "metadata": {
    "ExecuteTime": {
     "end_time": "2025-02-22T09:14:14.670915Z",
     "start_time": "2025-02-22T09:14:14.666663Z"
    }
   },
   "cell_type": "code",
   "source": [
    "from typing import List\n",
    "import numpy as np\n",
    "from numpy import ndarray, int16\n",
    "import sounddevice as sd\n",
    "from scipy.io.wavfile import write"
   ],
   "id": "fbc121e30a2defb3",
   "outputs": [],
   "execution_count": 3
  },
  {
   "metadata": {},
   "cell_type": "markdown",
   "source": "**Variables:**",
   "id": "e4161acffad31375"
  },
  {
   "metadata": {
    "ExecuteTime": {
     "end_time": "2025-02-22T09:14:15.794324Z",
     "start_time": "2025-02-22T09:14:15.789140Z"
    }
   },
   "cell_type": "code",
   "source": [
    "duration: int = 1; # In seconds. Duration of the recording.\n",
    "fs: int = 22050; # Frequency of recording, 22050 samples per seconds. Continues -> Discrete.\n",
    "frames: int = duration * fs; # Frame count.\n",
    "\n",
    "\n",
    "categories: List[str] = [\"red\", \"blue\", \"off\"] \n",
    "sample_size: int = 50; # Count for each category.\n",
    "\n",
    "upper_bound: int = np.iinfo(int16).max # 32767"
   ],
   "id": "3c2ce926c2dbd3a5",
   "outputs": [],
   "execution_count": 4
  },
  {
   "metadata": {},
   "cell_type": "markdown",
   "source": "Recording:",
   "id": "a75c9dec807b250a"
  },
  {
   "metadata": {
    "ExecuteTime": {
     "end_time": "2025-02-22T09:17:18.525210Z",
     "start_time": "2025-02-22T09:16:41.614700Z"
    }
   },
   "cell_type": "code",
   "source": [
    "for category in categories:\n",
    "    print(\"Processing category:\", category)\n",
    "    for i in range(sample_size):\n",
    "        file_name: str = f\"{category}_{i}.wav\"\n",
    "        recording: ndarray = sd.rec(frames=frames, samplerate=fs, channels=1)\n",
    "        sd.wait(ignore_errors=False)\n",
    "        audio_in_integer_format = (recording * upper_bound).astype(int16)\n",
    "        write(f\"./data/{file_name}\", fs, audio_in_integer_format)\n",
    "        print(f\"Recorded for category {category}, index: {i}\")\n",
    "        \n",
    "print(\"Finished!\")"
   ],
   "id": "6a1578a99698427b",
   "outputs": [
    {
     "name": "stdout",
     "output_type": "stream",
     "text": [
      "Processing category: red\n",
      "Recorded for category red, index: 0\n",
      "Recorded for category red, index: 1\n",
      "Recorded for category red, index: 2\n",
      "Recorded for category red, index: 3\n",
      "Recorded for category red, index: 4\n",
      "Recorded for category red, index: 5\n",
      "Recorded for category red, index: 6\n",
      "Recorded for category red, index: 7\n",
      "Recorded for category red, index: 8\n",
      "Recorded for category red, index: 9\n",
      "Processing category: blue\n",
      "Recorded for category blue, index: 0\n",
      "Recorded for category blue, index: 1\n",
      "Recorded for category blue, index: 2\n",
      "Recorded for category blue, index: 3\n",
      "Recorded for category blue, index: 4\n",
      "Recorded for category blue, index: 5\n",
      "Recorded for category blue, index: 6\n",
      "Recorded for category blue, index: 7\n",
      "Recorded for category blue, index: 8\n",
      "Recorded for category blue, index: 9\n",
      "Processing category: off\n",
      "Recorded for category off, index: 0\n",
      "Recorded for category off, index: 1\n",
      "Recorded for category off, index: 2\n",
      "Recorded for category off, index: 3\n",
      "Recorded for category off, index: 4\n",
      "Recorded for category off, index: 5\n",
      "Recorded for category off, index: 6\n",
      "Recorded for category off, index: 7\n",
      "Recorded for category off, index: 8\n",
      "Recorded for category off, index: 9\n",
      "Finished!\n"
     ]
    }
   ],
   "execution_count": 6
  },
  {
   "metadata": {},
   "cell_type": "code",
   "outputs": [],
   "execution_count": null,
   "source": "",
   "id": "a5fc94b7143e10fa"
  }
 ],
 "metadata": {
  "kernelspec": {
   "display_name": "Python 3",
   "language": "python",
   "name": "python3"
  },
  "language_info": {
   "codemirror_mode": {
    "name": "ipython",
    "version": 2
   },
   "file_extension": ".py",
   "mimetype": "text/x-python",
   "name": "python",
   "nbconvert_exporter": "python",
   "pygments_lexer": "ipython2",
   "version": "2.7.6"
  }
 },
 "nbformat": 4,
 "nbformat_minor": 5
}
