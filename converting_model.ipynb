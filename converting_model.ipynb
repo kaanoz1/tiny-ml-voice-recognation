{
 "cells": [
  {
   "cell_type": "code",
   "id": "initial_id",
   "metadata": {
    "collapsed": true,
    "ExecuteTime": {
     "end_time": "2025-02-25T18:40:55.334505Z",
     "start_time": "2025-02-25T18:40:55.317559Z"
    }
   },
   "source": [
    "import tensorflow as tf;\n",
    "import os;"
   ],
   "outputs": [],
   "execution_count": 6
  },
  {
   "metadata": {
    "ExecuteTime": {
     "end_time": "2025-02-25T19:00:57.097380Z",
     "start_time": "2025-02-25T19:00:56.050226Z"
    }
   },
   "cell_type": "code",
   "source": [
    "model = tf.keras.models.load_model(\"./models/model_0.keras\");\n",
    "\n",
    "converter = tf.lite.TFLiteConverter.from_keras_model(model)\n",
    "\n",
    "tflite_model = converter.convert()\n",
    "\n",
    "with open(\"models/model_0.tflite\", \"wb\") as f:\n",
    "    f.write(tflite_model)\n",
    "\n"
   ],
   "id": "c547018ec800080d",
   "outputs": [
    {
     "name": "stdout",
     "output_type": "stream",
     "text": [
      "INFO:tensorflow:Assets written to: C:\\Users\\kaano\\AppData\\Local\\Temp\\tmp7gj4ujfl\\assets\n"
     ]
    },
    {
     "name": "stderr",
     "output_type": "stream",
     "text": [
      "INFO:tensorflow:Assets written to: C:\\Users\\kaano\\AppData\\Local\\Temp\\tmp7gj4ujfl\\assets\n"
     ]
    },
    {
     "name": "stdout",
     "output_type": "stream",
     "text": [
      "Saved artifact at 'C:\\Users\\kaano\\AppData\\Local\\Temp\\tmp7gj4ujfl'. The following endpoints are available:\n",
      "\n",
      "* Endpoint 'serve'\n",
      "  args_0 (POSITIONAL_ONLY): TensorSpec(shape=(None, 1, 129, 176), dtype=tf.float32, name='input_layer_3')\n",
      "Output Type:\n",
      "  TensorSpec(shape=(None, 3), dtype=tf.float32, name=None)\n",
      "Captures:\n",
      "  2143827927184: TensorSpec(shape=(1, 1, 1, 176), dtype=tf.float32, name=None)\n",
      "  2143827934096: TensorSpec(shape=(1, 1, 1, 176), dtype=tf.float32, name=None)\n",
      "  2143827924880: TensorSpec(shape=(), dtype=tf.resource, name=None)\n",
      "  2143827923920: TensorSpec(shape=(), dtype=tf.resource, name=None)\n",
      "  2143827925264: TensorSpec(shape=(), dtype=tf.resource, name=None)\n",
      "  2143827922960: TensorSpec(shape=(), dtype=tf.resource, name=None)\n",
      "  2143811681552: TensorSpec(shape=(), dtype=tf.resource, name=None)\n",
      "  2143827921808: TensorSpec(shape=(), dtype=tf.resource, name=None)\n",
      "  2143827923152: TensorSpec(shape=(), dtype=tf.resource, name=None)\n",
      "  2143827926992: TensorSpec(shape=(), dtype=tf.resource, name=None)\n"
     ]
    }
   ],
   "execution_count": 9
  },
  {
   "metadata": {},
   "cell_type": "markdown",
   "source": "Comparing Storage Sizes:",
   "id": "942c768e8eab0077"
  },
  {
   "metadata": {
    "ExecuteTime": {
     "end_time": "2025-02-25T19:01:00.461557Z",
     "start_time": "2025-02-25T19:01:00.450943Z"
    }
   },
   "cell_type": "code",
   "source": [
    "model_path = \"./models/model_0.keras\"\n",
    "tflite_model_path = \"./models/model_0.tflite\"\n",
    "\n",
    "model_size = os.path.getsize(model_path)\n",
    "tflite_model_size = os.path.getsize(tflite_model_path)\n",
    "\n",
    "def convert_bytes(num: float):\n",
    "    for x in ['bytes', 'KB', 'MB', 'GB', 'TB']:\n",
    "        if num < 1024.0:\n",
    "            return \"%3.1f %s\" % (num, x)\n",
    "        num /= 1024.0\n",
    "\n",
    "print(\"Model size: %s\" % convert_bytes(model_size))\n",
    "print(\"TFLite model size: %s\" % convert_bytes(tflite_model_size))\n"
   ],
   "id": "9ba1ddac85d5d91a",
   "outputs": [
    {
     "name": "stdout",
     "output_type": "stream",
     "text": [
      "Model size: 19.2 MB\n",
      "TFLite model size: 6.4 MB\n"
     ]
    }
   ],
   "execution_count": 11
  }
 ],
 "metadata": {
  "kernelspec": {
   "display_name": "Python 3",
   "language": "python",
   "name": "python3"
  },
  "language_info": {
   "codemirror_mode": {
    "name": "ipython",
    "version": 2
   },
   "file_extension": ".py",
   "mimetype": "text/x-python",
   "name": "python",
   "nbconvert_exporter": "python",
   "pygments_lexer": "ipython2",
   "version": "2.7.6"
  }
 },
 "nbformat": 4,
 "nbformat_minor": 5
}
